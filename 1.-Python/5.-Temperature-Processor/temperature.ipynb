{
 "cells": [
  {
   "cell_type": "markdown",
   "metadata": {},
   "source": [
    "<img src=\"https://bit.ly/2VnXWr2\" width=\"100\" align=\"left\">"
   ]
  },
  {
   "cell_type": "markdown",
   "metadata": {},
   "source": [
    "# Temperature Sensor\n",
    "\n",
    "There is a temperature sensor in the processor of your company's server. The company wants to analyze the data provided by the sensor to decide if they should change the cooling system for a better one. As changing the cooling system is expensive and you are an excellent data analyst, you can't make a decision without basis.\n",
    "\n",
    "## Tools\n",
    "You don't necessarily need to use all the tools. Maybe you opt to use some of them or completely different ones, they are given to help you shape the exercise. Programming exercises can be solved in many different ways.\n",
    "1. Data structures: **lists**\n",
    "2. Loops: **list comprehension**\n",
    "3. Functions: **min, max, print, len**\n",
    "4. Conditional statements: **if-elif-else**\n",
    "\n",
    "## Tasks\n",
    "The temperatures measured throughout the 24 hours of a day are:"
   ]
  },
  {
   "cell_type": "code",
   "execution_count": 3,
   "metadata": {},
   "outputs": [],
   "source": [
    "temperatures_C = [33, 66, 65, 0, 59, 60, 62, 64, 70, 76, 80, 81, 80, 83, 90, 79, 61, 53, 50, 49, 53, 48, 45, 39]"
   ]
  },
  {
   "cell_type": "markdown",
   "metadata": {},
   "source": [
    "The first element of the list is the temperature at 12am, the second element is the temperature at 1am, and so on. \n",
    "\n",
    "The company has decided that if one of the following events occurs, then the cooling system needs to be replaced for a new one to avoid damaging the processor.\n",
    "* More than 4 temperatures are greater than or equal to 70ºC.\n",
    "* Any temperature is above 80ºC.\n",
    "* The average temperature exceeds 65ºC.\n",
    "\n",
    "Follow the steps so that you can make the decision.\n",
    "\n",
    "#### 1. Find the minimum temperature of the day and store it in a variable."
   ]
  },
  {
   "cell_type": "code",
   "execution_count": 4,
   "metadata": {},
   "outputs": [],
   "source": [
    "mintemp = min(temperatures_C)"
   ]
  },
  {
   "cell_type": "markdown",
   "metadata": {},
   "source": [
    "#### 2. Find the maximum temperature of the day and store it in a variable."
   ]
  },
  {
   "cell_type": "code",
   "execution_count": 6,
   "metadata": {},
   "outputs": [],
   "source": [
    "maxtemp = max(temperatures_C)"
   ]
  },
  {
   "cell_type": "markdown",
   "metadata": {},
   "source": [
    "#### 3. Create a list with the temperatures that are greater than or equal to 70ºC. Store it in a variable."
   ]
  },
  {
   "cell_type": "code",
   "execution_count": 7,
   "metadata": {},
   "outputs": [],
   "source": [
    "temperatures_high = [70, 76, 80, 81, 80, 83, 90, 79]"
   ]
  },
  {
   "cell_type": "markdown",
   "metadata": {},
   "source": [
    "#### 4. Find the average temperature of the day and store it in a variable."
   ]
  },
  {
   "cell_type": "code",
   "execution_count": 8,
   "metadata": {},
   "outputs": [],
   "source": [
    "avgtemp = sum(temperatures_C)/len(temperatures_C)"
   ]
  },
  {
   "cell_type": "markdown",
   "metadata": {},
   "source": [
    "#### 5. Imagine that there was a sensor failure at 3am and the data for that specific hour was not recorded. How would you estimate the missing value? Replace the current value of the list at 3am for an estimation. "
   ]
  },
  {
   "cell_type": "code",
   "execution_count": 9,
   "metadata": {},
   "outputs": [
    {
     "name": "stdout",
     "output_type": "stream",
     "text": [
      "[33, 66, 65, 62, 59, 60, 62, 64, 70, 76, 80, 81, 80, 83, 90, 79, 61, 53, 50, 49, 53, 48, 45, 39]\n"
     ]
    }
   ],
   "source": [
    "temperatures_C[3] = int((temperatures_C[2] + temperatures_C[4])/2)\n",
    "print(temperatures_C)"
   ]
  },
  {
   "cell_type": "markdown",
   "metadata": {},
   "source": [
    "#### 6. Bonus: the maintenance staff is from the United States and does not understand the international metric system. Help them by converting the temperatures from Celsius to Fahrenheit.\n",
    "To know more about temperature conversion check this [link](https://en.wikipedia.org/wiki/Conversion_of_units_of_temperature).\n",
    "\n",
    "**Formula**: \n",
    "\n",
    "$F = 1.8 * C + 32$"
   ]
  },
  {
   "cell_type": "code",
   "execution_count": 10,
   "metadata": {},
   "outputs": [
    {
     "name": "stdout",
     "output_type": "stream",
     "text": [
      "[91, 150, 149, 143, 138, 140, 143, 147, 158, 168, 176, 177, 176, 181, 194, 174, 141, 127, 122, 120, 127, 118, 113, 102]\n"
     ]
    }
   ],
   "source": [
    "temperatures_F = []\n",
    "b = 0\n",
    "c = 0\n",
    "\n",
    "for b in range(0,len(temperatures_C)):\n",
    "    c = 1.8*temperatures_C[b]+32\n",
    "    temperatures_F.append(int(c))\n",
    "    b += 1\n",
    "\n",
    "print(temperatures_F)"
   ]
  },
  {
   "cell_type": "markdown",
   "metadata": {},
   "source": [
    "#### 7. Make a decision!\n",
    "Now it's time to make a decision taking into account what you have seen until now. \n",
    "\n",
    "Remember that if one of the following events occurs, then the cooling system needs to be replaced for a new one to avoid damaging the processor.\n",
    "* More than 4 temperatures are greater than or equal to 70ºC.\n",
    "* Any temperature is above 80ºC.\n",
    "* The average temperature exceeds 65ºC.\n",
    "\n",
    "#### To make your decision, check if any of the three conditions above is met. You might need to use some of the variables you created in steps 1 to 6. Print a message to show if the cooling system needs to be changed or not."
   ]
  },
  {
   "cell_type": "code",
   "execution_count": 13,
   "metadata": {},
   "outputs": [
    {
     "name": "stdout",
     "output_type": "stream",
     "text": [
      "Test Results:\n",
      "\n",
      "More than 4 temperatures are greater than or equal to 70ºC: 8 temperatures >= 70ºC >>> Failed\n",
      "Any temperature is above 80ºC: 3 temperatures > 80ºC >>> Failed\n",
      "The average temperature exceeds 65ºC: The average temperature was 60.25 ºC >>> Passed\n",
      "\n",
      "Final Result: The management should change the cooling system for a better one\n"
     ]
    }
   ],
   "source": [
    "lim_temp = []\n",
    "d = 0\n",
    "\n",
    "for d in range(0,len(temperatures_C)):\n",
    "    if temperatures_C[d] > 80:\n",
    "        lim_temp.append(temperatures_C[d])\n",
    "        d += 1\n",
    "\n",
    "print(\"Test Results:\\n\"\n",
    "\"\\n\"\n",
    "\"More than 4 temperatures are greater than or equal to 70ºC:\", len(temperatures_high), \"temperatures >= 70ºC >>> Failed\\n\"\n",
    "\"Any temperature is above 80ºC:\", len(lim_temp), \"temperatures > 80ºC >>> Failed\\n\"\n",
    " \"The average temperature exceeds 65ºC: The average temperature was\", avgtemp, \"ºC >>> Passed\\n\"\n",
    "\"\\n\"\n",
    "\"Final Result: The management should change the cooling system for a better one\")"
   ]
  },
  {
   "cell_type": "markdown",
   "metadata": {},
   "source": [
    "## Bonus\n",
    "\n",
    "The company has decided that the decision you made is not valid. They want you to analyze the data again but this time, the conditions that need to be met in order to change the cooling system are different.\n",
    "\n",
    "This time, if one of the following events occurs, then the cooling system needs to be replaced:\n",
    "* The temperature is greater than 70ºC during more than 4 consecutive hours.\n",
    "* Any temperature is above 80ºC.\n",
    "* The average temperature exceeds 65ºC.\n",
    "\n",
    "Follow the steps so that you can make the decision.\n",
    "\n",
    "#### 1. Create a list with the hours where the temperature is greater than 70ºC. Store it in a variable."
   ]
  },
  {
   "cell_type": "code",
   "execution_count": 14,
   "metadata": {},
   "outputs": [
    {
     "name": "stdout",
     "output_type": "stream",
     "text": [
      "Above limit temperatures at: ['9am', '10am', '11am', '12pm', '1pm', '2pm', '3pm']\n",
      "Below or on limit temperatures at: ['12am', '1am', '2am', '3am', '4am', '5am', '6am', '7am', '8am', '4pm', '5pm', '6pm', '7pm', '8pm', '9pm', '10pm', '11pm']\n"
     ]
    }
   ],
   "source": [
    "hours = ['12am','1am','2am','3am','4am','5am','6am','7am','8am','9am','10am','11am',\n",
    "         '12pm','1pm','2pm','3pm','4pm','5pm','6pm','7pm','8pm','9pm','10pm','11pm']\n",
    "hot_temp = []\n",
    "low_temp = []\n",
    "log_temp = []\n",
    "row_temp = 0\n",
    "\n",
    "for a in range(0,len(temperatures_C)):\n",
    "    if temperatures_C[a] > 70:\n",
    "        hot_temp.append(hours[a])\n",
    "        a += 1\n",
    "        row_temp += 1\n",
    "        log_temp.append(row_temp)\n",
    "    elif temperatures_C[a] <= 70:\n",
    "        low_temp.append(hours[a])\n",
    "        a += 1\n",
    "        row_temp = 0\n",
    "        log_temp.append(row_temp)\n",
    "\n",
    "print(\"Above limit temperatures at:\", hot_temp)\n",
    "print(\"Below or on limit temperatures at:\", low_temp)"
   ]
  },
  {
   "cell_type": "markdown",
   "metadata": {},
   "source": [
    "#### 2. Check if the list you created in step 1 has more than 4 consecutive hours. "
   ]
  },
  {
   "cell_type": "code",
   "execution_count": 15,
   "metadata": {},
   "outputs": [
    {
     "name": "stdout",
     "output_type": "stream",
     "text": [
      "The temperature was above the limit for a maximum of 7 hours in a row\n"
     ]
    }
   ],
   "source": [
    "print(\"The temperature was above the limit for a maximum of\", max(log_temp), \"hours in a row\")"
   ]
  },
  {
   "cell_type": "markdown",
   "metadata": {},
   "source": [
    "#### 3. Make the decision!\n",
    "To make your decision, check if any of the three conditions is met. Print a message to show if the cooling system needs to be changed or not."
   ]
  },
  {
   "cell_type": "code",
   "execution_count": 17,
   "metadata": {},
   "outputs": [
    {
     "name": "stdout",
     "output_type": "stream",
     "text": [
      "Test Results:\n",
      "\n",
      "The temperature is greater than 70ºC during more than 4 consecutive hours: 7 times > 70ºC >>> Failed\n",
      "Any temperature is above 80ºC: 3 temperatures > 80ºC >>> Failed\n",
      "The average temperature exceeds 65ºC: The average temperature was 60.25 ºC >>> Passed\n",
      "\n",
      "Final Result: The management should change the cooling system for a better one\n"
     ]
    }
   ],
   "source": [
    "print(\"Test Results:\\n\"\n",
    "\"\\n\"\n",
    "\"The temperature is greater than 70ºC during more than 4 consecutive hours:\", max(log_temp), \"times > 70ºC >>> Failed\\n\"\n",
    "\"Any temperature is above 80ºC:\", len(lim_temp), \"temperatures > 80ºC >>> Failed\\n\"\n",
    " \"The average temperature exceeds 65ºC: The average temperature was\", avgtemp, \"ºC >>> Passed\\n\"\n",
    "\"\\n\"\n",
    "\"Final Result: The management should change the cooling system for a better one\")\n"
   ]
  },
  {
   "cell_type": "markdown",
   "metadata": {},
   "source": [
    "#### 4. Find the average value of the temperature lists (ºC and ºF). What is the relation between both average values?"
   ]
  },
  {
   "cell_type": "code",
   "execution_count": 18,
   "metadata": {},
   "outputs": [
    {
     "name": "stdout",
     "output_type": "stream",
     "text": [
      "The average ºC temperature is: 62 ºC\n",
      "The average ºF temperature is: 144 ºF\n"
     ]
    }
   ],
   "source": [
    "avg_temp_C = sum(temperatures_C)/len(temperatures_C)\n",
    "print(\"The average ºC temperature is:\", int(avg_temp_C),\"ºC\")\n",
    "\n",
    "avg_temp_F = sum(temperatures_F)/len(temperatures_F)\n",
    "print(\"The average ºF temperature is:\", int(avg_temp_F),\"ºF\")"
   ]
  },
  {
   "cell_type": "markdown",
   "metadata": {},
   "source": [
    "#### 5. Find the standard deviation of the temperature lists (ºC and ºF). What is the relation between both standard deviations?"
   ]
  },
  {
   "cell_type": "code",
   "execution_count": null,
   "metadata": {},
   "outputs": [],
   "source": [
    "import numpy as np\n",
    "print(\"The standard deviation from average temperatures in ºC is:\",np.std(temperatures_C))"
   ]
  },
  {
   "cell_type": "code",
   "execution_count": null,
   "metadata": {},
   "outputs": [],
   "source": [
    "print(\"The standard deviation from average temperatures in ºF is:\",np.std(temperatures_F))"
   ]
  }
 ],
 "metadata": {
  "kernelspec": {
   "display_name": "Python 3",
   "language": "python",
   "name": "python3"
  },
  "language_info": {
   "codemirror_mode": {
    "name": "ipython",
    "version": 3
   },
   "file_extension": ".py",
   "mimetype": "text/x-python",
   "name": "python",
   "nbconvert_exporter": "python",
   "pygments_lexer": "ipython3",
   "version": "3.8.5"
  }
 },
 "nbformat": 4,
 "nbformat_minor": 2
}
