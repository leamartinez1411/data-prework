{
 "cells": [
  {
   "cell_type": "markdown",
   "metadata": {},
   "source": [
    "<img src=\"https://bit.ly/2VnXWr2\" width=\"100\" align=\"left\">"
   ]
  },
  {
   "cell_type": "markdown",
   "metadata": {},
   "source": [
    "# Rock, Paper & Scissors\n",
    "\n",
    "Let's play the famous game against our computer. You can check the rules [here](https://en.wikipedia.org/wiki/Rock%E2%80%93paper%E2%80%93scissors). \n",
    "\n",
    "## Task\n",
    "Create a program that imitates the playability of the well known game of rock, paper, scissors. Follow the guidelines provided.\n",
    "\n",
    "## Tools\n",
    "1. Loop: **for/while**\n",
    "2. Functions: **input(), print()...**\n",
    "3. Conditional statements: **if, elif, else**\n",
    "4. Definition of functions. Modular programming\n",
    "5. Import modules\n",
    "\n",
    "**To solve this challenge, the use of functions is recommended.**\n",
    "\n",
    "#### 1. Import the choice function of the random module."
   ]
  },
  {
   "cell_type": "code",
   "execution_count": 1,
   "metadata": {},
   "outputs": [],
   "source": [
    "import random\n"
   ]
  },
  {
   "cell_type": "markdown",
   "metadata": {},
   "source": [
    "#### 2. Create a list that includes the 3 possible gesture options of the game: 'rock', 'paper' or 'scissors'. Store the list in a variable called `gestures`."
   ]
  },
  {
   "cell_type": "code",
   "execution_count": 2,
   "metadata": {},
   "outputs": [],
   "source": [
    "gestures = ['rock', 'paper', 'scissors']\n"
   ]
  },
  {
   "cell_type": "markdown",
   "metadata": {},
   "source": [
    "#### 3. Create a variable called `n_rounds` to store the maximum number of rounds to play in a game. \n",
    "Remember that the number of rounds must be odd: 1, 3, 5, ..."
   ]
  },
  {
   "cell_type": "code",
   "execution_count": 3,
   "metadata": {},
   "outputs": [],
   "source": [
    "n_rounds = 3"
   ]
  },
  {
   "cell_type": "markdown",
   "metadata": {},
   "source": [
    "#### 4. Create a variable called `rounds_to_win` to store the number of rounds that a player must win to win the game.\n",
    "**Hint**: the value stored in `rounds_to_win` depends on the value of `n_rounds`. "
   ]
  },
  {
   "cell_type": "code",
   "execution_count": 4,
   "metadata": {},
   "outputs": [],
   "source": [
    "rounds_to_win = ((n_rounds + 1)/2)"
   ]
  },
  {
   "cell_type": "markdown",
   "metadata": {},
   "source": [
    "#### 5. Create two variables to store the number of rounds that the computer and the player have won. Call these variables `cpu_score` and `player_score`."
   ]
  },
  {
   "cell_type": "code",
   "execution_count": 5,
   "metadata": {},
   "outputs": [],
   "source": [
    "player_score = 0\n",
    "cpu_score = 0"
   ]
  },
  {
   "cell_type": "markdown",
   "metadata": {},
   "source": [
    "#### 6. Define a function that randomly returns one of the 3 gesture options.\n",
    "You will use this function to simulate the gesture choice of the computer. "
   ]
  },
  {
   "cell_type": "code",
   "execution_count": 6,
   "metadata": {},
   "outputs": [],
   "source": [
    "def gesture():\n",
    "    gest = random.choice(gestures)\n",
    "    return gest"
   ]
  },
  {
   "cell_type": "markdown",
   "metadata": {},
   "source": [
    "#### 7. Define a function that asks the player which is the gesture he or she wants to show: 'rock', 'paper' or 'scissors'.\n",
    "The player should only be allowed to choose one of the 3 gesture options. If the player's choice is not rock, paper or scissors, keep asking until it is."
   ]
  },
  {
   "cell_type": "code",
   "execution_count": 7,
   "metadata": {},
   "outputs": [],
   "source": [
    "def player():\n",
    "    player_choice.append(input(\"Please choose between rock, paper or scissors: \"))"
   ]
  },
  {
   "cell_type": "markdown",
   "metadata": {},
   "source": [
    "#### 8. Define a function that checks who won a round. \n",
    "The function should return 0 if there is a tie, 1 if the computer wins and 2 if the player wins."
   ]
  },
  {
   "cell_type": "code",
   "execution_count": 8,
   "metadata": {},
   "outputs": [],
   "source": [
    "def winner():\n",
    "    who_won = []\n",
    "    cpu_score = 0\n",
    "    player_score = 0\n",
    "    n_matches = 0\n",
    "    if player_choice == \"rock\" and cpu_choice == \"scissors\":\n",
    "        player_score += 1\n",
    "        who_won.append(2)\n",
    "        n_matches += 1\n",
    "    elif player_choice == \"paper\" and cpu_choice == \"rock\":\n",
    "        player_score += 1\n",
    "        who_won.append(2)\n",
    "        n_matches += 1\n",
    "    elif player_choice == \"scissors\" and cpu_choice == \"paper\":\n",
    "        player_score += 1\n",
    "        who_won.append(2)\n",
    "        n_matches += 1\n",
    "    elif player_choice == cpu_choice:\n",
    "        player_score = player_score\n",
    "        cpu_score = cpu_score\n",
    "        who_won.append(0)\n",
    "        n_matches += 1\n",
    "    else:\n",
    "        cpu_score += 1\n",
    "        who_won.append(1)\n",
    "        n_matches += 1\n",
    "        \n",
    "\n",
    "def round_winner():\n",
    "    print(\"Final Results:\\n\")\n",
    "    print(n_matches, \"matches were played\")\n",
    "    print(\"Computer: {}\".format(cpu_score))\n",
    "    print(\"Player: {}\".format(player_score))\n",
    "    print(player_score)"
   ]
  },
  {
   "cell_type": "markdown",
   "metadata": {},
   "source": [
    "#### 9. Define a function that prints the choice of the computer, the choice of the player and a message that announces who won the current round. \n",
    "You should also use this function to update the variables that count the number of rounds that the computer and the player have won. The score of the winner increases by one point. If there is a tie, the score does not increase."
   ]
  },
  {
   "cell_type": "code",
   "execution_count": 9,
   "metadata": {},
   "outputs": [],
   "source": [
    "def name_winner():\n",
    "    who_won_name = []\n",
    "    i = 0\n",
    "    for i in range(len(0, n_matches)):\n",
    "        if who_won[i] == 0:\n",
    "            who_won_name.append(\"Tie!\")\n",
    "            i += 1\n",
    "        elif who_won[i] == 1:\n",
    "            who_won_name.append(\"Computer won!\")\n",
    "            i += 1\n",
    "        elif who_won[i] == 2:\n",
    "            who_won_name.append(\"Player won\")\n",
    "            i += 1\n",
    "        break"
   ]
  },
  {
   "cell_type": "markdown",
   "metadata": {},
   "source": [
    "#### 10. Now it's time to code the execution of the game using the functions and variables you defined above. \n",
    "\n",
    "First, create a loop structure that repeats while no player reaches the minimum score necessary to win and the number of rounds is less than the maximum number of rounds to play in a game.  \n",
    "\n",
    "Inside the loop, use the functions and variables above to create the execution of a round: ask for the player's choice, generate the random choice of the computer, show the round results, update the scores, etc. "
   ]
  },
  {
   "cell_type": "code",
   "execution_count": 10,
   "metadata": {},
   "outputs": [
    {
     "name": "stdout",
     "output_type": "stream",
     "text": [
      "Please choose between rock, paper or scissors: paper\n",
      "The computer choice was: scissors\n",
      "The winner of this match was the CPU\n",
      "\n",
      "\n",
      "Computer: 1\n",
      "Player: 0\n",
      "Please choose between rock, paper or scissors: paper\n",
      "The computer choice was: scissors\n",
      "The winner of this match was the CPU\n",
      "\n",
      "\n",
      "Computer: 2\n",
      "Player: 0\n",
      "The computer wins!\n"
     ]
    }
   ],
   "source": [
    "n_matches = 0\n",
    "\n",
    "who_won = []\n",
    "who_won_name = []\n",
    "\n",
    "while cpu_score < rounds_to_win and player_score < rounds_to_win:\n",
    "    player_choice = input(\"Please choose between rock, paper or scissors: \")\n",
    "    cpu_choice = random.choice(gestures)\n",
    "    print(\"The computer choice was:\", cpu_choice)\n",
    "    if player_choice == \"rock\" and cpu_choice == \"scissors\":\n",
    "        player_score += 1\n",
    "        who_won.append(2)\n",
    "        who_won_name.append(\"Player won!\")\n",
    "        n_matches += 1\n",
    "        print(\"The winner of this match was the Player\")\n",
    "    elif player_choice == \"paper\" and cpu_choice == \"rock\":\n",
    "        player_score += 1\n",
    "        who_won.append(2)\n",
    "        who_won_name.append(\"Player won!\")\n",
    "        n_matches += 1\n",
    "        print(\"The winner of this match was the Player\")\n",
    "    elif player_choice == \"scissors\" and cpu_choice == \"paper\":\n",
    "        player_score += 1\n",
    "        who_won.append(2)\n",
    "        who_won_name.append(\"Player won!\")\n",
    "        n_matches += 1\n",
    "        print(\"The winner of this match was the Player\")\n",
    "    elif player_choice == cpu_choice:\n",
    "        player_score = player_score\n",
    "        cpu_score = cpu_score\n",
    "        who_won.append(0)\n",
    "        who_won_name.append(\"Tie!\")\n",
    "        n_matches += 1\n",
    "        print(\"This match was a tie!\")\n",
    "    else:\n",
    "        cpu_score += 1\n",
    "        who_won.append(1)\n",
    "        who_won_name.append(\"CPU won!\")\n",
    "        n_matches += 1\n",
    "        print(\"The winner of this match was the CPU\")\n",
    "    print(\"\\n\")\n",
    "    print(\"Computer: {}\".format(cpu_score))\n",
    "    print(\"Player: {}\".format(player_score))\n",
    "    if cpu_score == rounds_to_win:\n",
    "        print(\"The computer wins!\")\n",
    "        break\n",
    "    elif player_score == rounds_to_win:\n",
    "        print(\"The player win!\")"
   ]
  },
  {
   "cell_type": "markdown",
   "metadata": {},
   "source": [
    "#### 11. Print the winner of the game based on who won more rounds.\n",
    "Remember that the game might be tied. "
   ]
  },
  {
   "cell_type": "code",
   "execution_count": 11,
   "metadata": {},
   "outputs": [
    {
     "name": "stdout",
     "output_type": "stream",
     "text": [
      "The player score was: 0\n",
      "The CPU score was: 2\n",
      "The game sequence was [1, 1]\n",
      "The game sequence was ['CPU won!', 'CPU won!']\n",
      "2  matches played\n",
      "The computer wins!\n"
     ]
    }
   ],
   "source": [
    "print(\"The player score was:\", player_score)\n",
    "print(\"The CPU score was:\", cpu_score)\n",
    "print(\"The game sequence was\", who_won)\n",
    "print(\"The game sequence was\", who_won_name)\n",
    "print(n_matches, \" matches played\")\n",
    "if cpu_score == rounds_to_win:\n",
    "    print(\"The computer wins!\")\n",
    "elif player_score == rounds_to_win:\n",
    "    print(\"The player win!\")"
   ]
  },
  {
   "cell_type": "markdown",
   "metadata": {},
   "source": [
    "# Bonus: Rock, Paper, Scissors, Lizard & Spock\n",
    "![](images/rpsls.jpg)\n",
    "\n",
    "In this challenge, you need to improve the previous game by adding two new options. To know more about the rules of the improved version of rock, paper, scissors, check this [link](http://www.samkass.com/theories/RPSSL.html). \n",
    "\n",
    "In addition, you will also need to improve how the game interacts with the player: the number of rounds to play, which must be an odd number, will be requested to the user until a valid number is entered. Define a new function to make that request.\n",
    "\n",
    "**Hint**: Try to reuse the code that you already coded in the previous challenge. If your code is efficient, this bonus will only consist of simple modifications to the original game."
   ]
  },
  {
   "cell_type": "code",
   "execution_count": 12,
   "metadata": {},
   "outputs": [
    {
     "name": "stdout",
     "output_type": "stream",
     "text": [
      "Please choose: paper\n",
      "The computer choice was: lizard\n",
      "The winner of this match was the CPU\n",
      "\n",
      "\n",
      "Computer: 1\n",
      "Player: 0\n",
      "Please choose: spock\n",
      "The computer choice was: scissors\n",
      "The winner of this match was the CPU\n",
      "\n",
      "\n",
      "Computer: 2\n",
      "Player: 0\n",
      "Please choose: lizard\n",
      "The computer choice was: scissors\n",
      "The winner of this match was the CPU\n",
      "\n",
      "\n",
      "Computer: 3\n",
      "Player: 0\n",
      "The computer wins!\n",
      "The player score was: 0\n",
      "The CPU score was: 3\n",
      "The game sequence was [1, 1, 1]\n",
      "The game sequence was ['CPU won!', 'CPU won!', 'CPU won!']\n",
      "3  matches played\n",
      "The computer wins!\n"
     ]
    }
   ],
   "source": [
    "import random\n",
    "\n",
    "gestures = ['rock', 'paper', 'scissors', 'lizard', 'spock']\n",
    "n_rounds = 5\n",
    "rounds_to_win = ((n_rounds + 1)/2)\n",
    "\n",
    "cpu_score = 0\n",
    "player_score = 0\n",
    "n_matches = 0\n",
    "\n",
    "player_choice = \"\"\n",
    "cpu_choice = \"\"\n",
    "\n",
    "\n",
    "def computer():\n",
    "    cpu_choice.append(random.choice(gestures))\n",
    "\n",
    "\n",
    "def player():\n",
    "    player_choice.append(input(\"Please choose between\\n rock, paper, scissors, lizard or spock: \"))\n",
    "\n",
    "\n",
    "def winner():\n",
    "    who_won = []\n",
    "    cpu_score = 0\n",
    "    player_score = 0\n",
    "    n_matches = 0\n",
    "    if player_choice == \"rock\" and (cpu_choice == \"scissors\" or cpu_choice == \"lizard\"):\n",
    "        player_score += 1\n",
    "        who_won.append(2)\n",
    "        n_matches += 1\n",
    "    elif player_choice == \"paper\" and (cpu_choice == \"rock\" or cpu_choice == \"spock\"):\n",
    "        player_score += 1\n",
    "        who_won.append(2)\n",
    "        n_matches += 1\n",
    "    elif player_choice == \"scissors\" and (cpu_choice == \"paper\" or  cpu_choice == \"lizard\"):\n",
    "        player_score += 1\n",
    "        who_won.append(2)\n",
    "        n_matches += 1\n",
    "    elif player_choice == \"lizard\" and (cpu_choice == \"paper\" or  cpu_choice == \"spock\"):\n",
    "        player_score += 1\n",
    "        who_won.append(2)\n",
    "        n_matches += 1\n",
    "    elif player_choice == \"spock\" and (cpu_choice == \"scissors\" or  cpu_choice == \"rock\"):\n",
    "        player_score += 1\n",
    "        who_won.append(2)\n",
    "        n_matches += 1\n",
    "    elif player_choice == cpu_choice:\n",
    "        player_score = player_score\n",
    "        cpu_score = cpu_score\n",
    "        who_won.append(0)\n",
    "        n_matches += 1\n",
    "    else:\n",
    "        cpu_score += 1\n",
    "        who_won.append(1)\n",
    "        n_matches += 1\n",
    "\n",
    "\n",
    "def round_winner():\n",
    "    print(\"Final Results:\\n\")\n",
    "    print(n_matches, \"matches were played\")\n",
    "    print(\"Computer: {}\".format(cpu_score))\n",
    "    print(\"Player: {}\".format(player_score))\n",
    "    print(player_score)\n",
    "\n",
    "\n",
    "def name_winner():\n",
    "    who_won_name = []\n",
    "    i = 0\n",
    "    for i in range(len(0, n_matches)):\n",
    "        if who_won[i] == 0:\n",
    "            who_won_name.append(\"Tie!\")\n",
    "            i += 1\n",
    "        elif who_won[i] == 1:\n",
    "            who_won_name.append(\"Computer won!\")\n",
    "            i += 1\n",
    "        elif who_won[i] == 2:\n",
    "            who_won_name.append(\"Player won\")\n",
    "            i += 1\n",
    "        break\n",
    "\n",
    "\n",
    "who_won = []\n",
    "who_won_name = []\n",
    "\n",
    "while cpu_score < rounds_to_win and player_score < rounds_to_win:\n",
    "    player_choice = input(\"Please choose: \")\n",
    "    cpu_choice = random.choice(gestures)\n",
    "    print(\"The computer choice was:\", cpu_choice)\n",
    "    if player_choice == \"rock\" and cpu_choice == \"scissors\":\n",
    "        player_score += 1\n",
    "        who_won.append(2)\n",
    "        who_won_name.append(\"Player won!\")\n",
    "        n_matches += 1\n",
    "        print(\"The winner of this match was the Player\")\n",
    "    elif player_choice == \"paper\" and cpu_choice == \"rock\":\n",
    "        player_score += 1\n",
    "        who_won.append(2)\n",
    "        who_won_name.append(\"Player won!\")\n",
    "        n_matches += 1\n",
    "        print(\"The winner of this match was the Player\")\n",
    "    elif player_choice == \"scissors\" and cpu_choice == \"paper\":\n",
    "        player_score += 1\n",
    "        who_won.append(2)\n",
    "        who_won_name.append(\"Player won!\")\n",
    "        n_matches += 1\n",
    "        print(\"The winner of this match was the Player\")\n",
    "    elif player_choice == cpu_choice:\n",
    "        player_score = player_score\n",
    "        cpu_score = cpu_score\n",
    "        who_won.append(0)\n",
    "        who_won_name.append(\"Tie!\")\n",
    "        n_matches += 1\n",
    "        print(\"This match was a tie!\")\n",
    "    else:\n",
    "        cpu_score += 1\n",
    "        who_won.append(1)\n",
    "        who_won_name.append(\"CPU won!\")\n",
    "        n_matches += 1\n",
    "        print(\"The winner of this match was the CPU\")\n",
    "    print(\"\\n\")\n",
    "    print(\"Computer: {}\".format(cpu_score))\n",
    "    print(\"Player: {}\".format(player_score))\n",
    "    if cpu_score == rounds_to_win:\n",
    "        print(\"The computer wins!\")\n",
    "        break\n",
    "    elif player_score == rounds_to_win:\n",
    "        print(\"The player win!\")\n",
    "\n",
    "\n",
    "print(\"The player score was:\", player_score)\n",
    "print(\"The CPU score was:\", cpu_score)\n",
    "print(\"The game sequence was\", who_won)\n",
    "print(\"The game sequence was\", who_won_name)\n",
    "print(n_matches, \" matches played\")\n",
    "if cpu_score == rounds_to_win:\n",
    "    print(\"The computer wins!\")\n",
    "elif player_score == rounds_to_win:\n",
    "    print(\"The player win!\")"
   ]
  },
  {
   "cell_type": "code",
   "execution_count": null,
   "metadata": {},
   "outputs": [],
   "source": []
  }
 ],
 "metadata": {
  "kernelspec": {
   "display_name": "Python 3",
   "language": "python",
   "name": "python3"
  },
  "language_info": {
   "codemirror_mode": {
    "name": "ipython",
    "version": 3
   },
   "file_extension": ".py",
   "mimetype": "text/x-python",
   "name": "python",
   "nbconvert_exporter": "python",
   "pygments_lexer": "ipython3",
   "version": "3.8.5"
  }
 },
 "nbformat": 4,
 "nbformat_minor": 2
}
