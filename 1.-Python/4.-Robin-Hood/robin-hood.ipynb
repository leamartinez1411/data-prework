{
 "cells": [
  {
   "cell_type": "markdown",
   "metadata": {},
   "source": [
    "<img src=\"https://bit.ly/2VnXWr2\" width=\"100\" align=\"left\"/>"
   ]
  },
  {
   "cell_type": "markdown",
   "metadata": {},
   "source": [
    "# Robin Hood\n",
    "Robin Hood has entered a competition to win the archery contest in Sherwood. With his bow and arrows, he needs to shoot on a target and try to hit as close as possible to the center.\n",
    "\n",
    "![](images/arrows.jpg)\n",
    "\n",
    "## Context\n",
    "In this challenge, the landing position of arrows shot by archers in the competition will be represented using 2-dimensional coordinates. \n",
    "\n",
    "In the 2-dimensional space, a point can be defined by a pair of values that correspond to the horizontal coordinate (x) and the vertical coordinate (y). For example, in our case, an arrow that hits the center of the archery target will land in position (0, 0) on the coordinate axes. \n",
    "\n",
    "The space can be divided into 4 zones (quadrants): Q1, Q2, Q3, Q4. If a point is in Q1, both its x coordinate and y coordinate are positive. Any point with a null x or y coordinate is considered to not belong to any quadrant. \n",
    "\n",
    "If you want to know more about the cartesian coordinate system, you can check this [link](https://en.wikipedia.org/wiki/Cartesian_coordinate_system). \n",
    "\n",
    "## Tools\n",
    "You don't necessarily need to use all the tools. Maybe you opt to use some of them or completely different ones, they are given to help you shape the exercise. Programming exercises can be solved in many different ways.\n",
    "* Data structures: **lists, sets, tuples**\n",
    "* Conditional statements: **if-elif-else**\n",
    "* Loop: **while/for**\n",
    "* Minimum (optional sorting)\n",
    "\n",
    "## Tasks\n",
    "Robin Hood has hit the following points:"
   ]
  },
  {
   "cell_type": "code",
   "execution_count": 1,
   "metadata": {},
   "outputs": [],
   "source": [
    "points = [(4, 5), (-0, 2), (4, 7), (1, -3), (3, -2), (4, 5), (3, 2), (5, 7), (-5, 7), (2, 2), (-4, 5), (0, -2),\n",
    "          (-4, 7), (-1, 3), (-3, 2), (-4, -5), (-3, 2), (5, 7), (5, 7), (2, 2), (9, 9), (-8, -9)]"
   ]
  },
  {
   "cell_type": "markdown",
   "metadata": {},
   "source": [
    "#### 1. Robin Hood is famous for hitting an arrow with another arrow. Find the coordinates of the points where an arrow hits another arrow."
   ]
  },
  {
   "cell_type": "code",
   "execution_count": 4,
   "metadata": {},
   "outputs": [
    {
     "name": "stdout",
     "output_type": "stream",
     "text": [
      "An arrow hit another arrow at:[(-3, 2), (4, 5), (5, 7), (2, 2)]\n"
     ]
    }
   ],
   "source": [
    "res = list(set([ele for ele in points\n",
    "            if points.count(ele) > 1]))\n",
    "print(\"An arrow hit another arrow at:\" + str(res))"
   ]
  },
  {
   "cell_type": "markdown",
   "metadata": {},
   "source": [
    "#### 2. Calculate how many arrows have fallen in each quadrant. \n",
    "**Note**: the arrows that fall in the axis (x=0 or y=0) don't belong to any quadrant."
   ]
  },
  {
   "cell_type": "code",
   "execution_count": 5,
   "metadata": {},
   "outputs": [
    {
     "name": "stdout",
     "output_type": "stream",
     "text": [
      "The arrows at the Q1 quadrant are located at: [(4, 5), (4, 7), (4, 5), (3, 2), (5, 7), (2, 2), (5, 7), (5, 7), (2, 2), (9, 9)]\n",
      "The arrows at the Q2 quadrant are located at: [(1, -3), (3, -2)]\n",
      "The arrows at the Q3 quadrant are located at: [(-4, -5), (-8, -9)]\n",
      "The arrows at the Q4 quadrant are located at: [(-5, 7), (-4, 5), (-4, 7), (-1, 3), (-3, 2), (-3, 2)]\n",
      "The arrows hit the axis at [(0, 2), (0, -2)]\n",
      "10 arrows hits the Q1 quadrant\n",
      "2 arrows hits the Q1 quadrant\n",
      "2 arrows hits the Q1 quadrant\n",
      "6 arrows hits the Q1 quadrant\n"
     ]
    }
   ],
   "source": [
    "Q1 = []\n",
    "Q2 = []\n",
    "Q3 = []\n",
    "Q4 = []\n",
    "\n",
    "# Axis when the arrow hits any axis\n",
    "Axis = []\n",
    "\n",
    "x = 0\n",
    "y = 0\n",
    "\n",
    "for x in range(0,len(points)):\n",
    "    if points[x][0] > 0 and points[x][1] > 0:\n",
    "        Q1.append(points[x])\n",
    "        x += 1\n",
    "    elif points[x][0] > 0 and points[x][1] < 0:\n",
    "        Q2.append(points[x])\n",
    "        x += 1\n",
    "    elif points[x][0] < 0 and points[x][1] < 0:\n",
    "        Q3.append(points[x])\n",
    "        x += 1\n",
    "    elif points[x][0] < 0 and points[x][1] > 0:\n",
    "        Q4.append(points[x])\n",
    "        x += 1\n",
    "    else:\n",
    "        Axis.append(points[x])\n",
    "        x += 1\n",
    "\n",
    "print(\"The arrows at the Q1 quadrant are located at:\", Q1)\n",
    "print(\"The arrows at the Q2 quadrant are located at:\", Q2)\n",
    "print(\"The arrows at the Q3 quadrant are located at:\", Q3)\n",
    "print(\"The arrows at the Q4 quadrant are located at:\", Q4)\n",
    "print(\"The arrows hit the axis at\", Axis)\n",
    "\n",
    "print(len(Q1), \"arrows hits the Q1 quadrant\")\n",
    "print(len(Q2), \"arrows hits the Q1 quadrant\")\n",
    "print(len(Q3), \"arrows hits the Q1 quadrant\")\n",
    "print(len(Q4), \"arrows hits the Q1 quadrant\")"
   ]
  },
  {
   "cell_type": "markdown",
   "metadata": {},
   "source": [
    "#### 3. Find the point closest to the center. Calculate its distance to the center. \n",
    "Take into account that there might be more than one point at the minimum distance to the center.\n",
    "\n",
    "**Hint**: Use the Euclidean distance. You can find more information about it [here](https://en.wikipedia.org/wiki/Euclidean_distance).  \n",
    "**Hint**: Defining a function that calculates the distance to the center can help."
   ]
  },
  {
   "cell_type": "code",
   "execution_count": 6,
   "metadata": {},
   "outputs": [
    {
     "name": "stdout",
     "output_type": "stream",
     "text": [
      "The closest distance to the center is: 2.0\n",
      "The closest point(s) is(are): [(0, 2), (0, -2)]\n"
     ]
    }
   ],
   "source": [
    "hyp = {}\n",
    "clo = []\n",
    "b = 0\n",
    "\n",
    "import math\n",
    "for b in range(len(points)):\n",
    "    hyp.update({points[b]: math.sqrt((points[b][0])**2 + (points[b][1])**2)})\n",
    "    clo.append(math.sqrt((points[b][0])**2 + (points[b][1])**2))\n",
    "    b += 1\n",
    "\n",
    "def minimums(hyp):\n",
    "    positions = []\n",
    "    min_value = float(\"inf\")\n",
    "    for k, v in hyp.items():\n",
    "        if v == min_value:\n",
    "            positions.append(k)\n",
    "        if v < min_value:\n",
    "            min_value = v\n",
    "            positions = []\n",
    "            positions.append(k)\n",
    "\n",
    "    return positions\n",
    "\n",
    "print(\"The closest distance to the center is:\", min(clo))\n",
    "print(\"The closest point(s) is(are):\", minimums(hyp))"
   ]
  },
  {
   "cell_type": "markdown",
   "metadata": {},
   "source": [
    "#### 4. If the archery target has a radius of 9, calculate the number of arrows that won't hit the target. \n",
    "**Hint**: Use the function created in step 3. "
   ]
  },
  {
   "cell_type": "code",
   "execution_count": 7,
   "metadata": {},
   "outputs": [
    {
     "name": "stdout",
     "output_type": "stream",
     "text": [
      "2 arrow(s) out of the target\n"
     ]
    }
   ],
   "source": [
    "f = 0\n",
    "radius = 9\n",
    "out_target = []\n",
    "\n",
    "for f in range(len(clo)):\n",
    "    if clo[f] > radius:\n",
    "        out_target.append(clo[f])\n",
    "        f += 1\n",
    "print(len(out_target), \"arrow(s) out of the target\")"
   ]
  },
  {
   "cell_type": "code",
   "execution_count": null,
   "metadata": {},
   "outputs": [],
   "source": []
  }
 ],
 "metadata": {
  "kernelspec": {
   "display_name": "Python 3",
   "language": "python",
   "name": "python3"
  },
  "language_info": {
   "codemirror_mode": {
    "name": "ipython",
    "version": 3
   },
   "file_extension": ".py",
   "mimetype": "text/x-python",
   "name": "python",
   "nbconvert_exporter": "python",
   "pygments_lexer": "ipython3",
   "version": "3.8.5"
  }
 },
 "nbformat": 4,
 "nbformat_minor": 2
}
